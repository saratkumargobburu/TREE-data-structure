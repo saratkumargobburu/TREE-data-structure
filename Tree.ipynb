{
 "cells": [
  {
   "cell_type": "markdown",
   "id": "98eba57b",
   "metadata": {},
   "source": [
    "# Tree Data structure"
   ]
  },
  {
   "cell_type": "code",
   "execution_count": 3,
   "id": "ad826aa5",
   "metadata": {},
   "outputs": [
    {
     "name": "stdout",
     "output_type": "stream",
     "text": [
      "<__main__.BST object at 0x00000277E24BF100>\n"
     ]
    }
   ],
   "source": [
    "#Tree Data stricture in python\n",
    "#Tree require only one class\n",
    "#tree is recursively iterated\\\n",
    "#creating the binary search tree\n",
    "class BST:\n",
    "    def __init__(self,key): #creating the node of the tree\n",
    "        self.key=key  #data of the tree\n",
    "        self.lchild=None        # |_none_|10|_none_|\n",
    "        self.rchild=None\n",
    "root=BST(10)\n",
    "print(root.key)\n",
    "print(root)\n",
    "    "
   ]
  },
  {
   "cell_type": "code",
   "execution_count": 6,
   "id": "e2ed3551",
   "metadata": {},
   "outputs": [
    {
     "name": "stdout",
     "output_type": "stream",
     "text": [
      "10\n",
      "4\n",
      "20\n"
     ]
    }
   ],
   "source": [
    "#inserting an element in the tree\n",
    "class BST:\n",
    "    def __init__(self,key):\n",
    "        self.key=key\n",
    "        self.lchild=None\n",
    "        self.rchild=None\n",
    "    def insert_node(self,data):\n",
    "        if self.key is None:\n",
    "            self.key=data\n",
    "            return\n",
    "        if self.key>data:\n",
    "            if self.lchild:\n",
    "                self.lchild.insert_node(data)\n",
    "            else:\n",
    "                self.lchild=BST(data)\n",
    "        else:\n",
    "            if self.rchild:\n",
    "                self.rchild.insert_node(data)\n",
    "            else:\n",
    "                self.rchild=BST(data)\n",
    "root=BST(10)\n",
    "root.insert_node(20)\n",
    "root.insert_node(4)\n",
    "print(root.key)\n",
    "print(root.lchild.key)\n",
    "print(root.rchild.key)"
   ]
  },
  {
   "cell_type": "code",
   "execution_count": 10,
   "id": "2fc9e74b",
   "metadata": {},
   "outputs": [
    {
     "name": "stdout",
     "output_type": "stream",
     "text": [
      "Node is not in left sub tree\n",
      "10\n",
      "4\n",
      "20\n"
     ]
    }
   ],
   "source": [
    "#searching in the tree\n",
    "class BST:\n",
    "    def __init__(self,key):\n",
    "        self.key=key\n",
    "        self.lchild=None\n",
    "        self.rchild=None\n",
    "    def insert_node(self,data):\n",
    "        if self.key is None:\n",
    "            self.key=data\n",
    "            return\n",
    "        if self.key>data:\n",
    "            if self.lchild:\n",
    "                self.lchild.insert_node(data)\n",
    "            else:\n",
    "                self.lchild=BST(data)\n",
    "        else:\n",
    "            if self.rchild:\n",
    "                self.rchild.insert_node(data)\n",
    "            else:\n",
    "                self.rchild=BST(data)\n",
    "    def search(self,data):\n",
    "        if self.key==data:\n",
    "            print(\"Node is found\")\n",
    "            return\n",
    "        if data<self.key:\n",
    "            if self.lchild:\n",
    "                self.lchild.search(data)\n",
    "            else:\n",
    "                print(\"Node is not in left sub tree\")\n",
    "        else:\n",
    "            if self.rchild:\n",
    "                self.rchild.search(data)\n",
    "            else:\n",
    "                print(\"Node is not in right sub tree\")\n",
    "\n",
    "root=BST(10)\n",
    "root.insert_node(20)\n",
    "root.insert_node(4)\n",
    "root.insert_node(14)\n",
    "root.insert_node(13)\n",
    "root.search(3)\n",
    "print(root.key)\n",
    "print(root.lchild.key)\n",
    "print(root.rchild.key)\n"
   ]
  },
  {
   "cell_type": "code",
   "execution_count": 15,
   "id": "d5b0c418",
   "metadata": {},
   "outputs": [
    {
     "name": "stdout",
     "output_type": "stream",
     "text": [
      "10 20 3 4 5 6 1 3 "
     ]
    }
   ],
   "source": [
    "#Traversing in the binary tree using Pre-order traversal algoritham\n",
    "class BST:\n",
    "    def __init__(self,key):\n",
    "        self.key=key\n",
    "        self.lchild=None\n",
    "        self.rchild=None\n",
    "    def insert(self,data):\n",
    "        if self.key is None:\n",
    "            self.key=data\n",
    "        if self.key<data:\n",
    "            if self.lchild:\n",
    "                self.lchild.insert(data)\n",
    "            else:\n",
    "                self.lchild = BST(data)\n",
    "        else:\n",
    "            if self.rchild:\n",
    "                self.rchild.insert(data)\n",
    "            else:\n",
    "                self.rchild =BST(data)\n",
    "    def preOrder(self):\n",
    "        if self.key is None:\n",
    "            print(\"Tree is empty\")\n",
    "        print(self.key,end=\" \")\n",
    "        if self.lchild:\n",
    "            self.lchild.preOrder()\n",
    "        if self.rchild:\n",
    "            self.rchild.preOrder()\n",
    "root=BST(10)\n",
    "l=[20,3,4,5,6,1,3]\n",
    "for i in l:\n",
    "    root.insert(i)\n",
    "root.preOrder()\n",
    "            "
   ]
  },
  {
   "cell_type": "code",
   "execution_count": 12,
   "id": "8c17e6a1",
   "metadata": {},
   "outputs": [
    {
     "name": "stdout",
     "output_type": "stream",
     "text": [
      "1 3 3 4 5 6 10 20 "
     ]
    }
   ],
   "source": [
    "#Tree traversing for in-order traversal\n",
    "class BST:\n",
    "    def __init__(self,data):\n",
    "        self.key=data\n",
    "        self.lchild=None\n",
    "        self.rchild=None\n",
    "    def insert(self,data):\n",
    "        if self.key is None:\n",
    "            self.key=data\n",
    "        if self.key>data:\n",
    "            if self.lchild:\n",
    "                self.lchild.insert(data)\n",
    "            else:\n",
    "                self.lchild =BST(data)\n",
    "        else:\n",
    "            if self.rchild:\n",
    "                self.rchild.insert(data)\n",
    "            else:\n",
    "                self.rchild = BST(data)\n",
    "    def inorder(self):\n",
    "        if self.key is None:\n",
    "            print(\"the Tree is empty\")\n",
    "        if self.lchild:\n",
    "            self.lchild.inorder()\n",
    "        print(self.key,end=\" \")\n",
    "        if self.rchild:\n",
    "            self.rchild.inorder()\n",
    "root=BST(10)\n",
    "l=[20,3,4,5,6,1,3]\n",
    "for i in l:\n",
    "    root.insert(i)\n",
    "root.inorder()"
   ]
  },
  {
   "cell_type": "code",
   "execution_count": 14,
   "id": "634ee4ff",
   "metadata": {},
   "outputs": [
    {
     "name": "stdout",
     "output_type": "stream",
     "text": [
      "67 90 89 55 26 12 5 "
     ]
    }
   ],
   "source": [
    "#Tree traversing for post-order traversal\n",
    "class BST:\n",
    "    def __init__(self,data):\n",
    "        self.key=data\n",
    "        self.lchild=None\n",
    "        self.rchild=None\n",
    "    def insert(self,data):\n",
    "        if self.key is None:\n",
    "            self.key=data\n",
    "        if self.key>data:\n",
    "            if self.lchild:\n",
    "                self.lchild.insert(data)\n",
    "            else:\n",
    "                self.lchild =BST(data)\n",
    "        else:\n",
    "            if self.rchild:\n",
    "                self.rchild.insert(data)\n",
    "            else:\n",
    "                self.rchild = BST(data)\n",
    "    def postorder(self):\n",
    "        if self.key is None:\n",
    "            print(\"the Tree is empty\")\n",
    "        if self.lchild:\n",
    "            self.lchild.postorder()\n",
    "        if self.rchild:\n",
    "            self.rchild.postorder()\n",
    "        print(self.key,end=\" \")\n",
    "root=BST(5)\n",
    "l=[12,26,55,89,67,90]\n",
    "for i in l:\n",
    "    root.insert(i)\n",
    "root.postorder()"
   ]
  },
  {
   "cell_type": "code",
   "execution_count": null,
   "id": "b6ab11fa",
   "metadata": {},
   "outputs": [],
   "source": []
  }
 ],
 "metadata": {
  "kernelspec": {
   "display_name": "Python 3 (ipykernel)",
   "language": "python",
   "name": "python3"
  },
  "language_info": {
   "codemirror_mode": {
    "name": "ipython",
    "version": 3
   },
   "file_extension": ".py",
   "mimetype": "text/x-python",
   "name": "python",
   "nbconvert_exporter": "python",
   "pygments_lexer": "ipython3",
   "version": "3.9.7"
  }
 },
 "nbformat": 4,
 "nbformat_minor": 5
}
